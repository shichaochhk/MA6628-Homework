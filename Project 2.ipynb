{
 "cells": [
  {
   "cell_type": "markdown",
   "metadata": {
    "collapsed": false
   },
   "source": [
    "### Calculation of Asian Call Option\n",
    "* Define BSM_call and put function\n",
    "* Calculate equivalent market interest and volatility for asian option\n",
    "* Calcualte asian call option value"
   ]
  },
  {
   "cell_type": "code",
   "execution_count": 13,
   "metadata": {
    "collapsed": false
   },
   "outputs": [
   ],
   "source": [
    "import numpy as np\n",
    "import seaborn as sns\n",
    "import matplotlib.pyplot as plt\n",
    "from scipy import stats\n",
    "import pandas as pd\n",
    "import scipy.optimize as sop"
   ]
  },
  {
   "cell_type": "markdown",
   "metadata": {
    "collapsed": false
   },
   "source": [
    "BSM European call option price is calculated:\n",
    "\n",
    "$$ \\mathcal C_0=\\mathbb E[e^{-rT}(A(T)-K)^+] $$\n"
   ]
  },
  {
   "cell_type": "code",
   "execution_count": 18,
   "metadata": {
    "collapsed": false
   },
   "outputs": [
   ],
   "source": [
    "def BSM_call_option(St,K,r,t,T,sigma):\n",
    "# St denotes stock price at time t\n",
    "# K denotes the maturity price\n",
    "# r denotes risk-free interest rate\n",
    "# T denotes maturity time\n",
    "# sigma denotes volatility\n",
    "    d1=((r+0.5*sigma**2)*(T-t)+np.log(St/K))/(sigma*np.sqrt(T-t))\n",
    "    d2=((r-0.5*sigma**2)*(T-t)+np.log(St/K))/(sigma*np.sqrt(T-t))\n",
    "    return St*stats.norm.cdf(d1)-K*np.exp(-r*(T-t))*stats.norm.cdf(d2)\n",
    "\n",
    "def BSM_put_option(St,K,r,t,T,sigma):\n",
    "    d1=((r+0.5*sigma**2)*(T-t)+np.log(St/K))/(sigma*np.sqrt(T-t))\n",
    "    d2=((r-0.5*sigma**2)*(T-t)+np.log(St/K))/(sigma*np.sqrt(T-t))\n",
    "    return K*np.exp(-r*(T-t))*stats.norm.cdf(-d2)-St*stats.norm.cdf(-d1)"
   ]
  },
  {
   "cell_type": "code",
   "execution_count": 15,
   "metadata": {
    "collapsed": false
   },
   "outputs": [
   ],
   "source": [
    "S0=100\n",
    "K=110\n",
    "r=0.475\n",
    "sigma=0.20\n",
    "T=1.0\n",
    "Otype='c'\n",
    "n=4\n",
    "t=np.linspace(0.,T,n+1)[1:]"
   ]
  },
  {
   "cell_type": "markdown",
   "metadata": {
    "collapsed": false
   },
   "source": [
    "The equivalent volatility and market interest rate are calculated as below:\n",
    "\n",
    "$$ \\hat{\\sigma}=\\frac{\\sigma}{n}\\sqrt{\\frac{(n+1)(2n+1)}{6}};       \\hat{r}=\\frac{1}{2}\\hat{\\sigma}^2+\\frac{(n+1)}{2n}(r-\\frac{1}{2}\\sigma^2) $$"
   ]
  },
  {
   "cell_type": "code",
   "execution_count": 16,
   "metadata": {
    "collapsed": false
   },
   "outputs": [
   ],
   "source": [
    "sigma_hat=sigma/n*np.sqrt((n+1)*(2*n+1)/6.0)\n",
    "r_hat=1/2.0*sigma_hat**2+(2*n+1)/2/n*(r-1/2*sigma**2)"
   ]
  },
  {
   "cell_type": "markdown",
   "metadata": {
    "collapsed": false
   },
   "source": [
    "The GAC price is given by the following formula:\n",
    "$$\\Pi_{0}^{c}=e^{(\\hat{r}-r)T} \\mathbb{E}[e^{-\\hat{r}T}(A_T-K)^+]$$"
   ]
  },
  {
   "cell_type": "code",
   "execution_count": 19,
   "metadata": {
    "collapsed": false
   },
   "outputs": [
    {
     "name": "stdout",
     "output_type": "stream",
     "text": [
      "The Asian call option value is  36.32923939367324\n"
     ]
    }
   ],
   "source": [
    "asian_call=np.exp((r_hat-r)*T)*BSM_call_option(S0,K,r_hat,0,T,sigma_hat)\n",
    "\n",
    "print(\"The Asian call option value is \",asian_call)"
   ]
  }
 ],
 "metadata": {
  "kernelspec": {
   "display_name": "Python 3 (Anaconda 5)",
   "language": "python",
   "name": "anaconda5"
  }
 },
 "nbformat": 4,
 "nbformat_minor": 0
}