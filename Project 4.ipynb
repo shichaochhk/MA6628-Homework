{
 "cells": [
  {
   "cell_type": "markdown",
   "metadata": {
    "collapsed": false
   },
   "source": [
    "### Project Four_Calculation European Call Option And Implied Volatility\n",
    "\n",
    "* Define BSM_call and put function\n",
    "\n",
    "* Calculate equivalent market interest and volatility for asian option\n",
    "\n",
    "* Calcualte asian call option value"
   ]
  },
  {
   "cell_type": "code",
   "execution_count": 16,
   "metadata": {
    "collapsed": false
   },
   "outputs": [
   ],
   "source": [
    "import numpy as np\n",
    "import seaborn as sns\n",
    "import matplotlib.pyplot as plt\n",
    "from scipy import stats\n",
    "import pandas as pd\n",
    "import scipy.optimize as sop\n",
    "import datetime"
   ]
  },
  {
   "cell_type": "markdown",
   "metadata": {
    "collapsed": false
   },
   "source": [
    "### BSM European call option price is calculated:\n",
    "$$ \\mathcal C_0=\\mathbb E[e^{-rT}(A(T)-K)^+] $$\n"
   ]
  },
  {
   "cell_type": "code",
   "execution_count": 17,
   "metadata": {
    "collapsed": false
   },
   "outputs": [
   ],
   "source": [
    "def BSM_call_option(St,K,r,t,T,sigma):\n",
    "# St denotes stock price at time t\n",
    "# K denotes the maturity price\n",
    "# r denotes risk-free interest rate\n",
    "# T denotes maturity time\n",
    "# sigma denotes volatility\n",
    "    d1=((r+0.5*sigma**2)*(T-t)+np.log(St/K))/(sigma*np.sqrt(T-t))\n",
    "    d2=((r-0.5*sigma**2)*(T-t)+np.log(St/K))/(sigma*np.sqrt(T-t))\n",
    "    return St*stats.norm.cdf(d1)-K*np.exp(-r*(T-t))*stats.norm.cdf(d2)\n",
    "\n",
    "def BSM_put_option(St,K,r,t,T,sigma):\n",
    "    d1=((r+0.5*sigma**2)*(T-t)+np.log(St/K))/(sigma*np.sqrt(T-t))\n",
    "    d2=((r-0.5*sigma**2)*(T-t)+np.log(St/K))/(sigma*np.sqrt(T-t))\n",
    "    return K*np.exp(-r*(T-t))*stats.norm.cdf(-d2)-St*stats.norm.cdf(-d1)"
   ]
  },
  {
   "cell_type": "markdown",
   "metadata": {
    "collapsed": false
   },
   "source": [
    "### Question One: Calculation European Call Option Based on the Following Parameters:\n",
    "\n",
    "* Today: Sep 27, 2018\n",
    "\n",
    "* Spot price: 290.68\n",
    "\n",
    "* Maturity: Dec 31, 2018\n",
    "\n",
    "* Strike: 288\n",
    "\n",
    "* Rate: 0.02 (from https://www.treasury.gov/resource-center/data-chart-center/interest-rates/Pages/TextView.aspx?data=yield)\n",
    "\n",
    "* Market call price: 9.23"
   ]
  },
  {
   "cell_type": "code",
   "execution_count": 14,
   "metadata": {
    "collapsed": false
   },
   "outputs": [
    {
     "name": "stdout",
     "output_type": "stream",
     "text": [
      "19.769937820552116\n"
     ]
    }
   ],
   "source": [
    "import datetime\n",
    "from dateutil.parser import parse\n",
    "dt1 = parse('Sep 27, 2018')\n",
    "dt2=parse('Dec 31, 2018')\n",
    "dt=dt2-dt1\n",
    "\n",
    "t=0\n",
    "T=dt.days/365\n",
    "S0=290.68\n",
    "r=0.02\n",
    "K=288\n",
    "c0=9.23\n",
    "sigma=0.3\n",
    "\n",
    "call_value=BSM_call_option(S0,K,r,t,T,sigma)\n",
    "print(call_value)"
   ]
  },
  {
   "cell_type": "markdown",
   "metadata": {
    "collapsed": false
   },
   "source": [
    "### Question Two: Calculation of the Implied Volatility\n",
    "* An error function is defined for iteratively calculating the volatility"
   ]
  },
  {
   "cell_type": "code",
   "execution_count": 15,
   "metadata": {
    "collapsed": false
   },
   "outputs": [
    {
     "name": "stdout",
     "output_type": "stream",
     "text": [
      "Optimization terminated successfully.\n",
      "         Current function value: 0.000373\n",
      "         Iterations: 17\n",
      "         Function evaluations: 34\n",
      "The implied volatility is  [0.11822754]\n"
     ]
    }
   ],
   "source": [
    "def BSM_error_function(sigma):\n",
    "    t=0\n",
    "    T=dt.days/365\n",
    "    S0=290.68\n",
    "    r=0.02\n",
    "    K=288\n",
    "    c0=9.23\n",
    "    MSE=np.abs(BSM_call_option(S0,K,r,t,T,sigma)-c0)\n",
    "    return MSE\n",
    "\n",
    "volatility=sop.fmin(BSM_error_function,0.3,xtol=0.0001, ftol=0.0001)\n",
    "#print(volatility)\n",
    "\n",
    "print(\"The implied volatility is \",volatility)"
   ]
  },
  {
   "cell_type": "code",
   "execution_count": 0,
   "metadata": {
    "collapsed": false
   },
   "outputs": [
   ],
   "source": [
   ]
  }
 ],
 "metadata": {
  "kernelspec": {
   "display_name": "Python 3 (Anaconda 5)",
   "language": "python",
   "name": "anaconda5"
  }
 },
 "nbformat": 4,
 "nbformat_minor": 0
}