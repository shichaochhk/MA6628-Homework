{
 "cells": [
  {
   "cell_type": "markdown",
   "metadata": {
    "collapsed": false
   },
   "source": [
    "\n",
    "### Project 06\n",
    "\n",
    "The optimal biased density function should have a similar shape of the original density function but with a thicker tail, in other words, the biased density function should have a revised drift value as well as an expanded standard deviation. \n",
    "\n",
    "In my selection of biased density function, I only assign a shifted dirft to increase the chance of crossing the barrier. I assume the logarithmic proportion log(S0/H) is distributed evenly along the m time steps. Although the chance of crossing the barier increases. The change of crossing the exercise price K at the maturity date has decreased. So my selection of biased density function is not the optimal.\n",
    "\n",
    "* Revised drift value\n",
    "$$ b=\\frac{1}{m} log(\\frac{S_0}{H}) $$\n",
    "* Initial Density Function f(x)\n",
    "$$ X_i \\backsim N((r-\\frac{\\sigma^2}{2})\\delta t,\\sigma^2 \\delta t)  $$\n",
    "* Biased Density Function g(x)\n",
    "$$ X_i \\backsim N((r-\\frac{\\sigma^2}{2})\\delta t-b,\\sigma^2 \\delta t)  $$\n",
    "\n"
   ]
  }
 ],
 "metadata": {
  "kernelspec": {
   "display_name": "Python 3 (Anaconda 5)",
   "language": "python",
   "name": "anaconda5"
  }
 },
 "nbformat": 4,
 "nbformat_minor": 0
}
