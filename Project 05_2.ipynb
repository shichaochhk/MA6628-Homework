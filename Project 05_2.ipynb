{
 "cells": [
  {
   "cell_type": "markdown",
   "metadata": {
    "collapsed": false
   },
   "source": [
    "### Project Five_02\n",
    "\n",
    "* Derivation of the explicit form\n",
    "\n",
    "$$ dr_t=a(b-r_t)dt+\\sigma dW_t $$\n",
    "\n",
    "Based on Ito's fornmula, the following solution can be obtained:\n",
    "\n",
    "\n",
    "$$r_t=e^{-at}[r_0+\\int_0^tabe^{au}du+\\sigma \\int_0^te^{au}dW_u] = \\mu_t +\\sigma \\int_0^t e^{a(u-t)}dW_u   $$\n",
    "\n",
    "The integration of the vasicek model is as follows:\n",
    "\n",
    "$$ r_t= r_0+\\int_0^t(a(b-r_u)du+\\sigma dW_u)             $$\n",
    "\n",
    "Comparing the above two equations, the following equation can be obtained:\n",
    "\n",
    "$$   \\mu_t=\\mathbb E[r_t]=r_0+\\int_0^ta(b-\\mathbb E[r_u])du      $$\n",
    "\n",
    "Solving the above linear ordinary differential equation (ODE), the expection of short rate is obtained as follows:\n",
    "\n",
    "$$ \\mathbb E[r_t]=e^{-at}[r_0+b(e^{at}-1)]      $$\n",
    "\n",
    "If the stochastic term is included, the explicit solution is as follows:\n",
    "\n",
    "$$ r_t=e^{-at}[r_0+b(e^{at}-1)] + \\sigma \\int_0^t dW_t    $$\n",
    "\n",
    "Thus,\n",
    "$$ lim_{t \\rightarrow \\infty} \\mathbb E[r_t] = b $$\n",
    "\n",
    "\n",
    "\n",
    "\n",
    "\n",
    "\n"
   ]
  }
 ],
 "metadata": {
  "kernelspec": {
   "display_name": "Python 3 (Anaconda 5)",
   "language": "python",
   "name": "anaconda5"
  }
 },
 "nbformat": 4,
 "nbformat_minor": 0
}