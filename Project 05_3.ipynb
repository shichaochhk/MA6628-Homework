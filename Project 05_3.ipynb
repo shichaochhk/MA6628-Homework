{
 "cells": [
  {
   "cell_type": "markdown",
   "metadata": {
    "collapsed": false
   },
   "source": [
    "### Project Five_03\n",
    "\n",
    "The price of zero coupon bond is:\n",
    "\n",
    "$$ P(0,T) = \\mathbb E [exp\\{-\\int_0^T r(s)ds\\}]  $$\n",
    "\n",
    "The exact value of P(0,1) is as follows:\n",
    "\n",
    "$$ P(0,1) =A(0,1) e^{-B(0,1)r_0}   $$\n",
    "\n",
    "Where:\n",
    "\n",
    "$$ B(0,1)=\\frac{1}{a}(1-e^{-a})      $$\n",
    "\n",
    "$$ A(0,1)=exp[(b-\\frac{\\sigma^2}{2a^2})(B(0,1)-1)-\\frac{\\sigma^2}{4a}B^2(0,1)]      $$\n",
    "\n"
   ]
  },
  {
   "cell_type": "code",
   "execution_count": 7,
   "metadata": {
    "collapsed": false
   },
   "outputs": [
    {
     "name": "stdout",
     "output_type": "stream",
     "text": [
      "The bond price P(0,1)= 0.9863895803459704\n"
     ]
    }
   ],
   "source": [
    "import numpy as np\n",
    "\n",
    "r0=0.005\n",
    "a=2.11\n",
    "b=0.02\n",
    "sigma=0.033\n",
    "\n",
    "\n",
    "B=1.0/a*(1-1.0/np.exp(a))\n",
    "A=np.exp((b-sigma**2/2.0/a**2)*(B-1)-sigma**2/4.0/a*B**2)\n",
    "\n",
    "P=A*np.exp(-1*B*r0)\n",
    "B\n",
    "A\n",
    "print('The bond price P(0,1)=',P)\n"
   ]
  }
 ],
 "metadata": {
  "kernelspec": {
   "display_name": "Python 3 (Anaconda 5)",
   "language": "python",
   "name": "anaconda5"
  }
 },
 "nbformat": 4,
 "nbformat_minor": 0
}