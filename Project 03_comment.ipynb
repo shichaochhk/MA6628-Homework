{
 "cells": [
  {
   "cell_type": "markdown",
   "metadata": {
    "collapsed": false
   },
   "source": [
    "## Comments on volatility for PSY option with different duration\n",
    "\n",
    "All the model have adopted the risk-free interest rate for 1, 3 and 6 months from the below website:\n",
    "https://www.treasury.gov/resource-center/data-chart-center/interest-rates/Pages/TextView.aspx?data=yield\n",
    "\n",
    "All the data have been extracted from the below website:\n",
    "https://finance.yahoo.com/quote/SPY/options?p=SPY&straddle=false&date=1561075200\n",
    "\n",
    "Based on the calibration results, the volatility increases from 0.158 to 0.1617 for 1 and 3 months, respectively. Theoretically, volatility should increase with duration. However, the volatility for 6 months back-calculates a volatility of 0.137. This is probabilty due to the limited suitable data for 6 months and no options have strike price close to spot price within 2% difference. \n",
    "\n",
    "If all the data from the three durations are combined and regressed, the volatility is about 0.156, which is close to the average value of 0.152"
   ]
  }
 ],
 "metadata": {
  "kernelspec": {
   "display_name": "Python 3 (Anaconda 5)",
   "language": "python",
   "name": "anaconda5"
  }
 },
 "nbformat": 4,
 "nbformat_minor": 0
}