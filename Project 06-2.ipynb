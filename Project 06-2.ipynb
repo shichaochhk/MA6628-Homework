{
 "cells": [
  {
   "cell_type": "markdown",
   "metadata": {
    "collapsed": false
   },
   "source": [
    "### Project 06\n",
    "\n",
    "* Knock-in payoff is given as below\n",
    "\n",
    "$$F(S) =exp(-rT) \\cdot 1000\\cdot I(S_T > K)\\cdot I(min_{1 \\leq k \\leq m} S (t_k) < H) $$\n",
    "\n",
    "* Crude Monte Carlo simulation can be sampled from the below normal random distribution f(x)\n",
    "\n",
    "$$ S_t = S_0 * exp(L_n)  $$\n",
    "$$ L_n = \\sum_{i=1}^{m}X_i  $$\n",
    "$$ X_i \\backsim N((r-\\frac{\\sigma^2}{2})\\delta t,\\sigma^2 \\delta t)  $$\n",
    "\n",
    "* If Importance Sampling (IS) is adopted, the alternative normal random distribution g(x) and the likelihood ratio are as follows\n",
    "\n",
    "$$ X_i \\backsim N((r-\\frac{\\sigma^2}{2})\\delta t-b,\\sigma^2 \\delta t)  $$\n",
    "$$ \\frac {f(x_1,x_2,...,x_m)}{g(x_1,x_2,...,x_m)} = exp(-\\frac{1}{2}\\sum_{k=1}^{m}{\\frac{(x_k-\\mu)}{\\sigma \\sqrt{\\delta t}}}^2) \\cdot exp(\\frac{1}{2}\\sum_{k=1}^{m}{\\frac{(x_k-\\mu+b)}{\\sigma \\sqrt{\\delta t}}}^2)  $$\n",
    "\n",
    "* The payoff is as below (The sampling should follow the alternative pdf g(x))\n",
    "\n",
    "$$ \\frac {f(x_1,x_2,...,x_m)}{g(x_1,x_2,...,x_m)}* F^{g(x)}(S) $$\n"
   ]
  },
  {
   "cell_type": "code",
   "execution_count": 4,
   "metadata": {
    "collapsed": false
   },
   "outputs": [
   ],
   "source": [
    "import numpy as np\n",
    "import matplotlib.pyplot as plt\n",
    "import math\n",
    "from scipy import stats"
   ]
  },
  {
   "cell_type": "markdown",
   "metadata": {
    "collapsed": false
   },
   "source": [
    "* Input paramters"
   ]
  },
  {
   "cell_type": "code",
   "execution_count": 5,
   "metadata": {
    "collapsed": false
   },
   "outputs": [
   ],
   "source": [
    "#risk-free rate\n",
    "r=0.05\n",
    "#volatility\n",
    "vol=0.15\n",
    "#initial price\n",
    "S0=95\n",
    "#maturity\n",
    "T=0.25\n",
    "#time steps\n",
    "m=50\n",
    "#barrier price\n",
    "H=85\n",
    "#maturity price\n",
    "K=96\n",
    "#number of MC simulation\n",
    "k=1000\n",
    "#simulation time for each MC\n",
    "n=1000\n",
    "\n",
    "#time interval\n",
    "dt=T/m"
   ]
  },
  {
   "cell_type": "markdown",
   "metadata": {
    "collapsed": false
   },
   "source": [
    "* equivalent mu and sig\n",
    "* b value determined from the following equation\n",
    "$$ b=\\frac{1}{m} log(\\frac{S_0}{H}) $$"
   ]
  },
  {
   "cell_type": "code",
   "execution_count": 6,
   "metadata": {
    "collapsed": false
   },
   "outputs": [
   ],
   "source": [
    "b=math.log(S0/H)/m\n",
    "c=math.log(K/S0)\n",
    "\n",
    "mudt2=(r-0.5*vol**2)*dt-b\n",
    "mudt1=(r-0.5*vol**2)*dt"
   ]
  },
  {
   "cell_type": "code",
   "execution_count": 8,
   "metadata": {
    "collapsed": false
   },
   "outputs": [
    {
     "name": "stdout",
     "output_type": "stream",
     "text": [
      "The final payoff is:  0.5351579575126676\n"
     ]
    }
   ],
   "source": [
    "sidt=vol*np.sqrt(dt)\n",
    "\n",
    "NCrossed=np.zeros(k)\n",
    "\n",
    "#Payoff=np.zeros(k)\n",
    "Times=np.zeros(k)\n",
    "StockVals=np.zeros(k)\n",
    "ISRatio=np.zeros(k)\n",
    "\n",
    "Ncrossed=0\n",
    "TBreach=0\n",
    "Price=np.zeros(n)\n",
    "\n",
    "for counter in range(n):\n",
    "    Payoff=np.zeros(k)\n",
    "    for i in range(k):\n",
    "        vetZ=np.random.normal(mudt2,sidt,m)\n",
    "        ##vetZ2=np.hstack()\n",
    "        vetZ2=np.hstack((math.log(S0),vetZ))\n",
    "        LogPath=np.cumsum(vetZ2)\n",
    "        St=np.exp(LogPath)\n",
    "\n",
    "\n",
    "        jcross=0\n",
    "        for j in range(len(St)):\n",
    "            if St[j]<H:\n",
    "                jcross=j\n",
    "                break\n",
    "            #print(jcross)\n",
    "            #the path crosses the lower barrier\n",
    "        if jcross>0:\n",
    "                \n",
    "            #TBreach=jcross-1\n",
    "            #Times[Ncrossed]=TBreach*dt\n",
    "            #StockVals[Ncrossed]=St[jcross]\n",
    "            #ISRatio[Ncrossed]=np.exp(TBreach*b**2/2/vol**2/dt+b/vol**2/dt*np.sum(vetZ[1:TBreach])-TBreach*b/vol**2*(r-vol**2/2))\n",
    "            ISRatio[Ncrossed]=np.exp(m*b**2/2/vol**2/dt+b/vol**2/dt*np.sum(vetZ)-m*b/vol**2*(r-vol**2/2))\n",
    "                \n",
    "            if St[-1]>K:\n",
    "                Payoff[Ncrossed]=ISRatio[Ncrossed]*1000*np.exp(-r*T)\n",
    "                Ncrossed=Ncrossed+1\n",
    "        \n",
    "    Price[counter]=np.sum(Payoff)/k   \n",
    "    #print(counter)    \n",
    "print('The final payoff is: ',np.mean(Price))"
   ]
  },
  {
   "cell_type": "markdown",
   "metadata": {
    "collapsed": false
   },
   "source": [
    "* Plotting"
   ]
  },
  {
   "cell_type": "code",
   "execution_count": 9,
   "metadata": {
    "collapsed": false
   },
   "outputs": [
    {
     "data": {
      "image/png": "[encoded data removed]"
     },
     "execution_count": 9,
     "metadata": {
      "image/png": {
       "height": 250,
       "width": 380
      },
      "needs_background": "light"
     },
     "output_type": "execute_result"
    }
   ],
   "source": [
    "plt.plot(np.linspace(0,n,n),Price)\n",
    "plt.show()"
   ]
  },
  {
   "cell_type": "code",
   "execution_count": 10,
   "metadata": {
    "collapsed": false
   },
   "outputs": [
    {
     "name": "stdout",
     "output_type": "stream",
     "text": [
      "The mean is  0.5351579575126676\n",
      "The standard is  0.4987623863359561\n",
      "The 95 percent confidence interval is between -0.462 and 1.533\n"
     ]
    }
   ],
   "source": [
    "mean=np.mean(Price)\n",
    "print('The mean is ',mean)\n",
    "std=np.sqrt(np.mean((Price-np.mean(Price)**2)))\n",
    "print('The standard is ',std)\n",
    "print('The 95 percent confidence interval is between %4.3f and %4.3f' %(mean-2*std,mean+2*std)) "
   ]
  },
  {
   "cell_type": "code",
   "execution_count": 0,
   "metadata": {
    "collapsed": false
   },
   "outputs": [
   ],
   "source": [
   ]
  }
 ],
 "metadata": {
  "kernelspec": {
   "display_name": "Python 3 (Anaconda 5)",
   "language": "python",
   "name": "anaconda5"
  },
  "language_info": {
   "codemirror_mode": {
    "name": "ipython",
    "version": 3
   },
   "file_extension": ".py",
   "mimetype": "text/x-python",
   "name": "python",
   "nbconvert_exporter": "python",
   "pygments_lexer": "ipython3",
   "version": "3.6.5"
  }
 },
 "nbformat": 4,
 "nbformat_minor": 0
}